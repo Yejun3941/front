{
 "cells": [
  {
   "cell_type": "code",
   "execution_count": 5,
   "metadata": {
    "vscode": {
     "languageId": "javascript"
    }
   },
   "outputs": [
    {
     "name": "stdout",
     "output_type": "stream",
     "text": [
      "Overwriting callback-test.js\n"
     ]
    }
   ],
   "source": [
    "%%writefile callback-test.js\n",
    "const DB = [];\n",
    "\n",
    "function register(user) {\n",
    "  return saveDB(user,function (user) {\n",
    "    return sendEmail(user,function (user) {\n",
    "      return getResult(user)\n",
    "    })\n",
    "  })\n",
    "}\n",
    "\n",
    "function saveDB(user,callback) {\n",
    "  DB.push(user);\n",
    "  console.log(`save ${user.name} to DB`);\n",
    "  return callback(user);\n",
    "}\n",
    "\n",
    "function sendEmail(user,callback) {\n",
    "  console.log(`email to ${user.email}`);\n",
    "  return callback(user)\n",
    "}\n",
    "\n",
    "function getResult(user) {\n",
    "  return `success register ${user.name}`;\n",
    "}\n",
    "\n",
    "const result = register({email:\"andy@test.com\", password:\"1234\",name:\"andy\"})"
   ]
  },
  {
   "cell_type": "code",
   "execution_count": 4,
   "metadata": {
    "vscode": {
     "languageId": "javascript"
    }
   },
   "outputs": [
    {
     "name": "stdout",
     "output_type": "stream",
     "text": [
      "Writing promise-test.js\n"
     ]
    }
   ],
   "source": [
    "%%writefile promise-test.js\n",
    "const DB = []\n",
    "\n",
    "function saveDB(user) {\n",
    "  const oldDBSize = DB.length\n",
    "  DB.push(user)\n",
    "  console.log(`save ${user.name} to DB`)\n",
    "  \n",
    "  return new Promise((resolve,reject)=>{\n",
    "    if (DB.length>oldDBSize) {\n",
    "      resolve(user)\n",
    "    } else {\n",
    "      reject(new Error(\"Save DB Error!\"));\n",
    "    }\n",
    "  })\n",
    "}\n",
    "\n",
    "function sendEmail(user) {\n",
    "  console.log(`email to ${user.email}`)\n",
    "  return new Promise((resolve) => {\n",
    "    resolve(user)\n",
    "  })\n",
    "}\n",
    "\n",
    "function getResult(user) {\n",
    "  return new Promise((resolve,reject) => {\n",
    "    resolve(`success register ${user.name}`)\n",
    "  })\n",
    "}\n",
    "\n",
    "function registerByPromist(user) {\n",
    "  const result = saveDB(user).then(sendEmail).then(getResult)\n",
    "  console.log(result)\n",
    "  return result\n",
    "}\n",
    "\n",
    "const myUser = { email : \"andy@test.com\", password:\"1234\",name:\"andy\"};\n",
    "const result = registerByPromist(myUser);\n",
    "result.then(console.log)\n"
   ]
  },
  {
   "cell_type": "code",
   "execution_count": 11,
   "metadata": {
    "vscode": {
     "languageId": "javascript"
    }
   },
   "outputs": [
    {
     "name": "stdout",
     "output_type": "stream",
     "text": [
      "Overwriting promise-test.js\n"
     ]
    }
   ],
   "source": [
    "%%writefile promise-test.js\n",
    "const DB = []\n",
    "\n",
    "function saveDB(user) {\n",
    "  const oldDBSize = DB.length\n",
    "  DB.push(user)\n",
    "  console.log(`save ${user.name} to DB`)\n",
    "  \n",
    "  return new Promise((resolve,reject)=>{\n",
    "    if (DB.length>oldDBSize) {\n",
    "      resolve(user)\n",
    "    } else {\n",
    "      reject(new Error(\"Save DB Error!\"));\n",
    "    }\n",
    "  })\n",
    "}\n",
    "\n",
    "function sendEmail(user) {\n",
    "  console.log(`email to ${user.email}`)\n",
    "  return new Promise((resolve) => {\n",
    "    resolve(user)\n",
    "  })\n",
    "}\n",
    "\n",
    "function getResult(user) {\n",
    "  return new Promise((resolve,reject) => {\n",
    "    resolve(`success register ${user.name}`)\n",
    "  })\n",
    "}\n",
    "\n",
    "function registerByPromist(user) {\n",
    "  const result = saveDB(user).then(sendEmail).then(getResult).catch(error => new Error(error))\n",
    "  console.log(result)\n",
    "  return result\n",
    "}\n",
    "\n",
    "const myUser = { email : \"andy@test.com\", password:\"1234\",name:\"andy\"};\n",
    "const result = registerByPromist(myUser);\n",
    "result.then(console.log)\n",
    "\n",
    "allResult = Promise.all([saveDB(myUser),sendEmail(myUser),getResult(myUser)])\n",
    "allResult.then(console.log)\n"
   ]
  },
  {
   "cell_type": "code",
   "execution_count": 12,
   "metadata": {
    "vscode": {
     "languageId": "javascript"
    }
   },
   "outputs": [
    {
     "name": "stdout",
     "output_type": "stream",
     "text": [
      "save andy to DB\n",
      "Promise { \u001b[36m<pending>\u001b[39m }\n",
      "save andy to DB\n",
      "email to andy@test.com\n",
      "email to andy@test.com\n",
      "[\n",
      "  { email: \u001b[32m'andy@test.com'\u001b[39m, password: \u001b[32m'1234'\u001b[39m, name: \u001b[32m'andy'\u001b[39m },\n",
      "  { email: \u001b[32m'andy@test.com'\u001b[39m, password: \u001b[32m'1234'\u001b[39m, name: \u001b[32m'andy'\u001b[39m },\n",
      "  \u001b[32m'success register andy'\u001b[39m\n",
      "]\n",
      "success register andy\n"
     ]
    }
   ],
   "source": [
    "!node promise-test.js"
   ]
  },
  {
   "cell_type": "code",
   "execution_count": 13,
   "metadata": {
    "vscode": {
     "languageId": "javascript"
    }
   },
   "outputs": [
    {
     "name": "stdout",
     "output_type": "stream",
     "text": [
      "Overwriting promise-test.js\n"
     ]
    }
   ],
   "source": [
    "%%writefile promise-test.js\n",
    "const DB = []\n",
    "\n",
    "function saveDB(user) {\n",
    "  // const oldDBSize = DB.length\n",
    "  const oldDBSize = DB.length + 1;\n",
    "  DB.push(user)\n",
    "  console.log(`save ${user.name} to DB`)\n",
    "  \n",
    "  return new Promise((resolve,reject)=>{\n",
    "    if (DB.length>oldDBSize) {\n",
    "      resolve(user)\n",
    "    } else {\n",
    "      reject(new Error(\"Save DB Error!\"));\n",
    "    }\n",
    "  })\n",
    "}\n",
    "\n",
    "function sendEmail(user) {\n",
    "  console.log(`email to ${user.email}`)\n",
    "  return new Promise((resolve) => {\n",
    "    resolve(user)\n",
    "  })\n",
    "}\n",
    "\n",
    "function getResult(user) {\n",
    "  return new Promise((resolve,reject) => {\n",
    "    resolve(`success register ${user.name}`)\n",
    "  })\n",
    "}\n",
    "\n",
    "function registerByPromist(user) {\n",
    "  const result = saveDB(user).then(sendEmail).then(getResult).catch(error => new Error(error))\n",
    "  console.log(result)\n",
    "  return result\n",
    "}\n",
    "\n",
    "const myUser = { email : \"andy@test.com\", password:\"1234\",name:\"andy\"};\n",
    "const result = registerByPromist(myUser);\n",
    "result.then(console.log)\n",
    "\n",
    "allResult = Promise.all([saveDB(myUser),sendEmail(myUser),getResult(myUser)])\n",
    "allResult.then(console.log)\n"
   ]
  },
  {
   "cell_type": "code",
   "execution_count": 14,
   "metadata": {
    "vscode": {
     "languageId": "javascript"
    }
   },
   "outputs": [
    {
     "name": "stdout",
     "output_type": "stream",
     "text": [
      "save andy to DB\n",
      "Promise { \u001b[36m<pending>\u001b[39m }\n",
      "save andy to DB\n",
      "email to andy@test.com\n",
      "Error: Error: Save DB Error!\n",
      "    at \u001b[90mc:\\project_YJ\\dev\\projects\\front\\day18\\async\\\u001b[39mpromise-test.js:32:78\n",
      "\u001b[90m    at process.processTicksAndRejections (node:internal/process/task_queues:95:5)\u001b[39m\n"
     ]
    },
    {
     "name": "stderr",
     "output_type": "stream",
     "text": [
      "c:\\project_YJ\\dev\\projects\\front\\day18\\async\\promise-test.js:13\n",
      "      reject(new Error(\"Save DB Error!\"));\n",
      "             ^\n",
      "\n",
      "Error: Save DB Error!\n",
      "    at \u001b[90mc:\\project_YJ\\dev\\projects\\front\\day18\\async\\\u001b[39mpromise-test.js:13:14\n",
      "    at new Promise (<anonymous>)\n",
      "    at saveDB \u001b[90m(c:\\project_YJ\\dev\\projects\\front\\day18\\async\\\u001b[39mpromise-test.js:9:10\u001b[90m)\u001b[39m\n",
      "    at Object.<anonymous> \u001b[90m(c:\\project_YJ\\dev\\projects\\front\\day18\\async\\\u001b[39mpromise-test.js:41:26\u001b[90m)\u001b[39m\n",
      "\u001b[90m    at Module._compile (node:internal/modules/cjs/loader:1358:14)\u001b[39m\n",
      "\u001b[90m    at Module._extensions..js (node:internal/modules/cjs/loader:1416:10)\u001b[39m\n",
      "\u001b[90m    at Module.load (node:internal/modules/cjs/loader:1208:32)\u001b[39m\n",
      "\u001b[90m    at Module._load (node:internal/modules/cjs/loader:1024:12)\u001b[39m\n",
      "\u001b[90m    at Function.executeUserEntryPoint [as runMain] (node:internal/modules/run_main:174:12)\u001b[39m\n",
      "\u001b[90m    at node:internal/main/run_main_module:28:49\u001b[39m\n",
      "\n",
      "Node.js v20.15.0\n"
     ]
    }
   ],
   "source": [
    "!node promise-test.js"
   ]
  },
  {
   "cell_type": "code",
   "execution_count": 15,
   "metadata": {
    "vscode": {
     "languageId": "javascript"
    }
   },
   "outputs": [
    {
     "name": "stdout",
     "output_type": "stream",
     "text": [
      "Overwriting promise-test.js\n"
     ]
    }
   ],
   "source": [
    "%%writefile promise-test.js\n",
    "const DB = []\n",
    "\n",
    "function saveDB(user) {\n",
    "  // const oldDBSize = DB.length\n",
    "  const oldDBSize = DB.length + 1;\n",
    "  DB.push(user)\n",
    "  console.log(`save ${user.name} to DB`)\n",
    "  \n",
    "  return new Promise((resolve,reject)=>{\n",
    "    if (DB.length>oldDBSize) {\n",
    "      resolve(user)\n",
    "    } else {\n",
    "      reject(new Error(\"Save DB Error!\"));\n",
    "    }\n",
    "  })\n",
    "}\n",
    "\n",
    "function sendEmail(user) {\n",
    "  console.log(`email to ${user.email}`)\n",
    "  return new Promise((resolve) => {\n",
    "    resolve(user)\n",
    "  })\n",
    "}\n",
    "\n",
    "function getResult(user) {\n",
    "  return new Promise((resolve,reject) => {\n",
    "    resolve(`success register ${user.name}`)\n",
    "  })\n",
    "}\n",
    "\n",
    "function registerByPromist(user) {\n",
    "  const result = saveDB(user)\n",
    "    .then(sendEmail)\n",
    "    .then(getResult)\n",
    "    .catch(error => new Error(error))\n",
    "    .finally(()=>console.log(\"완료\"))\n",
    "  console.log(result)\n",
    "  return result\n",
    "}\n",
    "\n",
    "const myUser = { email : \"andy@test.com\", password:\"1234\",name:\"andy\"};\n",
    "const result = registerByPromist(myUser);\n",
    "result.then(console.log)\n",
    "\n",
    "allResult = Promise.all([saveDB(myUser),sendEmail(myUser),getResult(myUser)])\n",
    "allResult.then(console.log)\n"
   ]
  },
  {
   "cell_type": "code",
   "execution_count": 16,
   "metadata": {
    "vscode": {
     "languageId": "javascript"
    }
   },
   "outputs": [
    {
     "name": "stdout",
     "output_type": "stream",
     "text": [
      "save andy to DB\n",
      "Promise { \u001b[36m<pending>\u001b[39m }\n",
      "save andy to DB\n",
      "email to andy@test.com\n",
      "완료\n",
      "Error: Error: Save DB Error!\n",
      "    at \u001b[90mc:\\project_YJ\\dev\\projects\\front\\day18\\async\\\u001b[39mpromise-test.js:35:21\n",
      "\u001b[90m    at process.processTicksAndRejections (node:internal/process/task_queues:95:5)\u001b[39m\n"
     ]
    },
    {
     "name": "stderr",
     "output_type": "stream",
     "text": [
      "c:\\project_YJ\\dev\\projects\\front\\day18\\async\\promise-test.js:13\n",
      "      reject(new Error(\"Save DB Error!\"));\n",
      "             ^\n",
      "\n",
      "Error: Save DB Error!\n",
      "    at \u001b[90mc:\\project_YJ\\dev\\projects\\front\\day18\\async\\\u001b[39mpromise-test.js:13:14\n",
      "    at new Promise (<anonymous>)\n",
      "    at saveDB \u001b[90m(c:\\project_YJ\\dev\\projects\\front\\day18\\async\\\u001b[39mpromise-test.js:9:10\u001b[90m)\u001b[39m\n",
      "    at Object.<anonymous> \u001b[90m(c:\\project_YJ\\dev\\projects\\front\\day18\\async\\\u001b[39mpromise-test.js:45:26\u001b[90m)\u001b[39m\n",
      "\u001b[90m    at Module._compile (node:internal/modules/cjs/loader:1358:14)\u001b[39m\n",
      "\u001b[90m    at Module._extensions..js (node:internal/modules/cjs/loader:1416:10)\u001b[39m\n",
      "\u001b[90m    at Module.load (node:internal/modules/cjs/loader:1208:32)\u001b[39m\n",
      "\u001b[90m    at Module._load (node:internal/modules/cjs/loader:1024:12)\u001b[39m\n",
      "\u001b[90m    at Function.executeUserEntryPoint [as runMain] (node:internal/modules/run_main:174:12)\u001b[39m\n",
      "\u001b[90m    at node:internal/main/run_main_module:28:49\u001b[39m\n",
      "\n",
      "Node.js v20.15.0\n"
     ]
    }
   ],
   "source": [
    "!node promise-test.js"
   ]
  },
  {
   "cell_type": "markdown",
   "metadata": {
    "vscode": {
     "languageId": "javascript"
    }
   },
   "source": [
    "- promise 에 .then 연속으로 사용하는걸 chaining 이라고 함?"
   ]
  },
  {
   "cell_type": "code",
   "execution_count": 1,
   "metadata": {
    "vscode": {
     "languageId": "javascript"
    }
   },
   "outputs": [
    {
     "name": "stdout",
     "output_type": "stream",
     "text": [
      "Writing ideal-promise-code.js\n"
     ]
    }
   ],
   "source": [
    "%%writefile ideal-promise-code.js\n",
    "function goodPromise(val) {\n",
    "  return new Promise((resolve,reject) => {\n",
    "    resolve(val)\n",
    "  })\n",
    "}\n",
    "\n",
    "goodPromise(\"세상에\")\n",
    ".then((val)=>{\n",
    "  return val+\" 이런\"\n",
    "})\n",
    ".then((val)=>{\n",
    "  return val+\" 코드는\"\n",
    "})\n",
    ".then((val)=>{\n",
    "  return val+\" 없습니다\"\n",
    "})\n",
    ".then((val)=>{\n",
    "  console.log(val)\n",
    "})\n",
    ".catch((error) => {\n",
    "  console.log(error)\n",
    "})"
   ]
  },
  {
   "cell_type": "code",
   "execution_count": 2,
   "metadata": {},
   "outputs": [
    {
     "name": "stdout",
     "output_type": "stream",
     "text": [
      "세상에 이런 코드는 없습니다\n"
     ]
    }
   ],
   "source": [
    "!node \"ideal-promise-code.js\""
   ]
  },
  {
   "cell_type": "code",
   "execution_count": 12,
   "metadata": {
    "vscode": {
     "languageId": "javascript"
    }
   },
   "outputs": [
    {
     "name": "stdout",
     "output_type": "stream",
     "text": [
      "Overwriting top20-movie-promise-code.js\n"
     ]
    }
   ],
   "source": [
    "%%writefile top20-movie-promise-code.js\n",
    "const axios = require(\"axios\"); \n",
    "\n",
    "const url =\n",
    "  \"https://raw.githubusercontent.com/wapj/musthavenodejs/main/movieinfo.json\";\n",
    "\n",
    "axios\n",
    "  .get(url) \n",
    "  .then((result) => {\n",
    "    \n",
    "    if (result.status != 200) {\n",
    "      throw new Error(\"요청에 실패했습니다!\"); \n",
    "    }\n",
    "\n",
    "    if (result.data) {\n",
    "      \n",
    "      return result.data;\n",
    "    }\n",
    "\n",
    "    throw new Error(\"데이터 없습니다.\"); \n",
    "  })\n",
    "  .then((data) => {\n",
    "    \n",
    "    if (!data.articleList || data.articleList.size == 0) {\n",
    "      \n",
    "      throw new Error(\"데이터가 없습니다.\");\n",
    "    }\n",
    "    return data.articleList; \n",
    "  })\n",
    "  .then((articles) => {\n",
    "    return articles.map((article, idx) => {\n",
    "      \n",
    "      return { title: article.title, rank: idx + 1 };\n",
    "    });\n",
    "  })\n",
    "  .then((results) => {\n",
    "    for (let movieInfo of results) {\n",
    "      \n",
    "      console.log(`[${movieInfo.rank}위] ${movieInfo.title}`);\n",
    "    }\n",
    "  })\n",
    "  .catch((err) => {\n",
    "    \n",
    "    console.log(\"<<에러발생>>\");\n",
    "    console.log(err);\n",
    "  });\n"
   ]
  },
  {
   "cell_type": "code",
   "execution_count": 5,
   "metadata": {
    "vscode": {
     "languageId": "javascript"
    }
   },
   "outputs": [
    {
     "name": "stdout",
     "output_type": "stream",
     "text": [
      "\n",
      "added 9 packages in 958ms\n",
      "\n",
      "1 package is looking for funding\n",
      "  run `npm fund` for details\n"
     ]
    }
   ],
   "source": [
    "!npm install axios"
   ]
  },
  {
   "cell_type": "code",
   "execution_count": 13,
   "metadata": {},
   "outputs": [
    {
     "name": "stdout",
     "output_type": "stream",
     "text": [
      "[1위] 처음부터 잘했으면 얼마나 좋니\n",
      "[2위] <본즈 앤 올> 궁지로 내몰린 10대를 보는 시선\n",
      "[3위] 경이로운 생生의 의지로 창조해낸 ‘페르시아어’\n",
      "[4위] 뻔하지 않은 사랑 영화\n",
      "[5위] 우린 아무것도 모른다, 틀렸다는\u001d것만 증명할 뿐…에올\n",
      "[6위] [영화리뷰] <더 메뉴>를 보고\n",
      "[7위] 진실한 삶의 태도를 제시하다\n",
      "[8위] 중요한 건 꺾이지 않는 마음\n",
      "[9위] 치즈버거 세트의 행복\n",
      "[10위] 즐기거나 놀리거나,\n",
      "[11위] [영화감상]오늘 밤, 세계에서 이 사랑이 사라진다 해도\n",
      "[12위] 아들을 구하고 싶다면 달려라\n",
      "[13위] 인생은 아름다워(2022)\n",
      "[14위] 영화 <사도>, 죽음의 문턱에 와서야 닿는 마음에 대해\n",
      "[15위] 스타워즈: 안도르\n",
      "[16위] 죽음의 문턱에서 거짓말로 살아남은 자의 고백\n",
      "[17위] 닫힌 마음 - 영화 '체리향기'\n",
      "[18위] <오늘 밤, 세계에서 이 사랑이 사라진다 해도> 리뷰\n",
      "[19위] <더 메뉴> 180만 원짜리 먹으러 와서 사레 걸린기분\n",
      "[20위] 닭장을 나온 백호 \n"
     ]
    }
   ],
   "source": [
    "!node \"top20-movie-promise-code.js\""
   ]
  },
  {
   "cell_type": "code",
   "execution_count": null,
   "metadata": {
    "vscode": {
     "languageId": "javascript"
    }
   },
   "outputs": [],
   "source": [
    "%%writefile promise-anti-pattern1.js\n",
    "function myWork(work) {\n",
    "    return new Promise((resolve, reject) => {\n",
    "        if (work === 'done') {\n",
    "            resolve('게임 가능');\n",
    "        } else {\n",
    "            reject(new Error(\"게임 불가능\"));\n",
    "        }\n",
    "    })\n",
    "}\n",
    "myWork('done').then(function (value) { console.log(value) }, function (err) { console.error(err) });\n",
    "myWork('doing')\n",
    "    .then(function (value) { console.log(value) })\n",
    "    .catch(function (err) { console.error(err) });"
   ]
  },
  {
   "cell_type": "code",
   "execution_count": 1,
   "metadata": {
    "vscode": {
     "languageId": "javascript"
    }
   },
   "outputs": [
    {
     "name": "stdout",
     "output_type": "stream",
     "text": [
      "Writing promise-anti-pattern2.js\n"
     ]
    }
   ],
   "source": [
    "%%writefile promise-anti-pattern2.js\n",
    "function myWork(work) {\n",
    "  return new Promise((resolve,reject) => {\n",
    "    resolve(work.toUpperCase())  \n",
    "  })\n",
    "}\n",
    "\n",
    "function playGame(work) {\n",
    "  return new Promise((resolve, reject) => {\n",
    "    if (work === \"DONE\") {\n",
    "      resolve(\"GO PLAY GAME\")\n",
    "    } else {\n",
    "      reject (new Error(\"DON'T\"))\n",
    "    }\n",
    "  })\n",
    "  \n",
    "}\n",
    "\n",
    "myWork(\"doNe\")\n",
    "  .then(function (result) {\n",
    "    playGame(result).then(function (val) {\n",
    "      console.log(val)\n",
    "    })\n",
    "  })\n",
    "\n",
    "  myWork(\"done\").then(playGame).then(console.log)"
   ]
  },
  {
   "cell_type": "code",
   "execution_count": 2,
   "metadata": {},
   "outputs": [
    {
     "name": "stdout",
     "output_type": "stream",
     "text": [
      "GO PLAY GAME\n",
      "GO PLAY GAME\n"
     ]
    }
   ],
   "source": [
    "!node \"promise-anti-pattern2.js\""
   ]
  },
  {
   "cell_type": "code",
   "execution_count": 14,
   "metadata": {
    "vscode": {
     "languageId": "javascript"
    }
   },
   "outputs": [
    {
     "name": "stdout",
     "output_type": "stream",
     "text": [
      "Writing async-await.js\n"
     ]
    }
   ],
   "source": [
    "%%writefile \"async-await.js\"\n",
    "async function myName() {\n",
    "    return \"Andy\";\n",
    "}\n",
    "async function showName() { \n",
    "    const name = await myName();\n",
    "    console.log(name);\n",
    "}\n",
    "\n",
    "console.log(showName()); "
   ]
  },
  {
   "cell_type": "code",
   "execution_count": 15,
   "metadata": {},
   "outputs": [
    {
     "name": "stdout",
     "output_type": "stream",
     "text": [
      "Promise { \u001b[36m<pending>\u001b[39m }\n",
      "Andy\n"
     ]
    }
   ],
   "source": [
    "!node \"async-await.js\""
   ]
  },
  {
   "cell_type": "code",
   "execution_count": 17,
   "metadata": {
    "vscode": {
     "languageId": "javascript"
    }
   },
   "outputs": [
    {
     "name": "stdout",
     "output_type": "stream",
     "text": [
      "Overwriting async-await.js\n"
     ]
    }
   ],
   "source": [
    "%%writefile \"async-await.js\"\n",
    "async function myName() {\n",
    "    return \"Andy\";\n",
    "}\n",
    "async function showName() { \n",
    "    const name = await myName();\n",
    "    console.log(name);\n",
    "}\n",
    "\n",
    "console.log(showName()); \n",
    "\n",
    "function waitOneSecond(msg) {\n",
    "  return new Promise((resolve, _) => {\n",
    "    setTimeout(() => resolve(`${msg}`),1000)\n",
    "  })\n",
    "}\n",
    "\n",
    "async function countOneToTen() {\n",
    "  for (let x of [...Array(10).keys()]) {\n",
    "    let result = await waitOneSecond(`${x + 1}초 대기 중...`)\n",
    "    console.log(result)\n",
    "  }\n",
    "  console.log(\"완료\")\n",
    "}\n",
    "\n",
    "countOneToTen()"
   ]
  },
  {
   "cell_type": "code",
   "execution_count": 18,
   "metadata": {},
   "outputs": [
    {
     "name": "stdout",
     "output_type": "stream",
     "text": [
      "Promise { \u001b[36m<pending>\u001b[39m }\n",
      "Andy\n",
      "1초 대기 중...\n",
      "2초 대기 중...\n",
      "3초 대기 중...\n",
      "4초 대기 중...\n",
      "5초 대기 중...\n",
      "6초 대기 중...\n",
      "7초 대기 중...\n",
      "8초 대기 중...\n",
      "9초 대기 중...\n",
      "10초 대기 중...\n",
      "완료\n"
     ]
    }
   ],
   "source": [
    "!node \"async-await.js\""
   ]
  },
  {
   "cell_type": "code",
   "execution_count": 20,
   "metadata": {
    "vscode": {
     "languageId": "javascript"
    }
   },
   "outputs": [
    {
     "name": "stdout",
     "output_type": "stream",
     "text": [
      "Overwriting top20-movie-async-await.js\n"
     ]
    }
   ],
   "source": [
    "%%writefile \"top20-movie-async-await.js\"\n",
    "const axios = require(\"axios\");\n",
    "\n",
    "async function getTop20Movies() { \n",
    "    const url = \"https://raw.githubusercontent.com/wapj/jsbackend/main/movieinfo.json\";\n",
    "    try {\n",
    "      const result = await axios.get(url);\n",
    "      const { data } = result; \n",
    "        \n",
    "      if (!data.articleList || data.articleList.size == 0) {\n",
    "          throw new Error(\"데이터가 없습니다.\"); \n",
    "      }\n",
    "      \n",
    "      const movieInfos = data.articleList.map((article, idx) => {\n",
    "        return { title: article.title, rank: idx + 1 };\n",
    "      });\n",
    "        \n",
    "      for (let movieInfo of movieInfos) {\n",
    "        console.log(`[${movieInfo.rank}위] ${movieInfo.title}`);\n",
    "      }\n",
    "    } catch (err) {\n",
    "      throw new Error(err);\n",
    "    }\n",
    "}\n",
    "\n",
    "getTop20Movies();"
   ]
  },
  {
   "cell_type": "code",
   "execution_count": 21,
   "metadata": {},
   "outputs": [
    {
     "name": "stdout",
     "output_type": "stream",
     "text": [
      "[1위] 처음부터 잘했으면 얼마나 좋니\n",
      "[2위] <본즈 앤 올> 궁지로 내몰린 10대를 보는 시선\n",
      "[3위] 경이로운 생生의 의지로 창조해낸 ‘페르시아어’\n",
      "[4위] 뻔하지 않은 사랑 영화\n",
      "[5위] 우린 아무것도 모른다, 틀렸다는\u001d것만 증명할 뿐…에올\n",
      "[6위] [영화리뷰] <더 메뉴>를 보고\n",
      "[7위] 진실한 삶의 태도를 제시하다\n",
      "[8위] 중요한 건 꺾이지 않는 마음\n",
      "[9위] 치즈버거 세트의 행복\n",
      "[10위] 즐기거나 놀리거나,\n",
      "[11위] [영화감상]오늘 밤, 세계에서 이 사랑이 사라진다 해도\n",
      "[12위] 아들을 구하고 싶다면 달려라\n",
      "[13위] 인생은 아름다워(2022)\n",
      "[14위] 영화 <사도>, 죽음의 문턱에 와서야 닿는 마음에 대해\n",
      "[15위] 스타워즈: 안도르\n",
      "[16위] 죽음의 문턱에서 거짓말로 살아남은 자의 고백\n",
      "[17위] 닫힌 마음 - 영화 '체리향기'\n",
      "[18위] <오늘 밤, 세계에서 이 사랑이 사라진다 해도> 리뷰\n",
      "[19위] <더 메뉴> 180만 원짜리 먹으러 와서 사레 걸린기분\n",
      "[20위] 닭장을 나온 백호 \n"
     ]
    }
   ],
   "source": [
    "!node \"top20-movie-async-await.js\""
   ]
  },
  {
   "cell_type": "code",
   "execution_count": null,
   "metadata": {},
   "outputs": [],
   "source": []
  }
 ],
 "metadata": {
  "kernelspec": {
   "display_name": "base",
   "language": "python",
   "name": "python3"
  },
  "language_info": {
   "codemirror_mode": {
    "name": "ipython",
    "version": 3
   },
   "file_extension": ".py",
   "mimetype": "text/x-python",
   "name": "python",
   "nbconvert_exporter": "python",
   "pygments_lexer": "ipython3",
   "version": "3.12.4"
  }
 },
 "nbformat": 4,
 "nbformat_minor": 2
}

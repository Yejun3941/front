{
 "cells": [
  {
   "cell_type": "code",
   "execution_count": null,
   "metadata": {
    "vscode": {
     "languageId": "sql"
    }
   },
   "outputs": [],
   "source": [
    "create schema `nodejs` default character set utf8mb4 default collate utf8mb4_general_ci;"
   ]
  },
  {
   "cell_type": "code",
   "execution_count": 1,
   "metadata": {
    "vscode": {
     "languageId": "sql"
    }
   },
   "outputs": [
    {
     "ename": "SyntaxError",
     "evalue": "invalid syntax (1317822847.py, line 1)",
     "output_type": "error",
     "traceback": [
      "\u001b[1;36m  Cell \u001b[1;32mIn[1], line 1\u001b[1;36m\u001b[0m\n\u001b[1;33m    use nodejs;\u001b[0m\n\u001b[1;37m        ^\u001b[0m\n\u001b[1;31mSyntaxError\u001b[0m\u001b[1;31m:\u001b[0m invalid syntax\n"
     ]
    }
   ],
   "source": [
    "use nodejs;"
   ]
  },
  {
   "cell_type": "code",
   "execution_count": null,
   "metadata": {
    "vscode": {
     "languageId": "sql"
    }
   },
   "outputs": [],
   "source": [
    "create table nodejs.users (\n",
    "\tid int not null auto_increment,\n",
    "    name varchar(20) not null,\n",
    "    age int\tunsigned not null,\n",
    "    married tinyint not null,\n",
    "    comment text null,\n",
    "    create_at datetime not null default now(),\n",
    "    primary\tkey(id),\n",
    "    unique index name_unique (name asc)\n",
    ")"
   ]
  },
  {
   "cell_type": "code",
   "execution_count": null,
   "metadata": {
    "vscode": {
     "languageId": "sql"
    }
   },
   "outputs": [],
   "source": [
    "DESC user;"
   ]
  },
  {
   "cell_type": "code",
   "execution_count": null,
   "metadata": {
    "vscode": {
     "languageId": "sql"
    }
   },
   "outputs": [],
   "source": [
    "create table nodejs.comments (\n",
    "id int not null auto_increment,\n",
    "commenter int not null,\n",
    "comment varchar(100) not null,\n",
    "created_at datetime not null default now(),\n",
    "\n",
    "primary key(id),\n",
    "index commenter_idx(commenter asc),\n",
    "constraint commenter foreign key (commenter) references nodejs.users (id)\n",
    "on delete cascade\n",
    "on update cascade\n",
    ")\n",
    "comment=\"댓글\"\n",
    "Engine=InnoDB;"
   ]
  },
  {
   "cell_type": "code",
   "execution_count": null,
   "metadata": {
    "vscode": {
     "languageId": "sql"
    }
   },
   "outputs": [],
   "source": [
    "select * from users\n",
    "select * from comments"
   ]
  },
  {
   "cell_type": "code",
   "execution_count": null,
   "metadata": {
    "vscode": {
     "languageId": "sql"
    }
   },
   "outputs": [],
   "source": [
    "insert into users (name,age,married,comment) values (\"test\",20,0,\"자기소개1\")"
   ]
  },
  {
   "cell_type": "code",
   "execution_count": null,
   "metadata": {
    "vscode": {
     "languageId": "sql"
    }
   },
   "outputs": [],
   "source": [
    "select * from users where age<30;"
   ]
  },
  {
   "cell_type": "code",
   "execution_count": null,
   "metadata": {
    "vscode": {
     "languageId": "sql"
    }
   },
   "outputs": [],
   "source": [
    "select id,name from users order by age desc"
   ]
  },
  {
   "cell_type": "code",
   "execution_count": null,
   "metadata": {
    "vscode": {
     "languageId": "sql"
    }
   },
   "outputs": [],
   "source": [
    "select id,name from users order by age desc limit 1 offset 1;"
   ]
  },
  {
   "cell_type": "code",
   "execution_count": null,
   "metadata": {
    "vscode": {
     "languageId": "sql"
    }
   },
   "outputs": [],
   "source": [
    "update users set comment = \"바꿀내용\" where id=2;"
   ]
  },
  {
   "cell_type": "code",
   "execution_count": null,
   "metadata": {
    "vscode": {
     "languageId": "sql"
    }
   },
   "outputs": [],
   "source": [
    "update users set comment = \"변경내용\" where id=1;"
   ]
  },
  {
   "cell_type": "code",
   "execution_count": null,
   "metadata": {
    "vscode": {
     "languageId": "sql"
    }
   },
   "outputs": [],
   "source": [
    "delete from users where id=2;"
   ]
  },
  {
   "cell_type": "markdown",
   "metadata": {
    "vscode": {
     "languageId": "sql"
    }
   },
   "source": [
    "### Sequelize ORM\n",
    "- SQL 작업을 쉽게 할 수 있도록 도와주는 라이브러리\n",
    "- ORM : Object Relational Mapping\n",
    "- MySQL 외데오 다른 RDB에도 호환"
   ]
  },
  {
   "cell_type": "code",
   "execution_count": 3,
   "metadata": {},
   "outputs": [],
   "source": [
    "%mkdir sequelize"
   ]
  },
  {
   "cell_type": "code",
   "execution_count": 4,
   "metadata": {},
   "outputs": [
    {
     "name": "stdout",
     "output_type": "stream",
     "text": [
      "c:\\project_YJ\\dev\\projects\\front\\day19\\sequelize\n"
     ]
    }
   ],
   "source": [
    "%cd \"sequelize\""
   ]
  },
  {
   "cell_type": "code",
   "execution_count": 5,
   "metadata": {
    "vscode": {
     "languageId": "javascript"
    }
   },
   "outputs": [
    {
     "name": "stdout",
     "output_type": "stream",
     "text": [
      "\n",
      "added 202 packages in 7s\n",
      "\n",
      "30 packages are looking for funding\n",
      "  run `npm fund` for details\n"
     ]
    }
   ],
   "source": [
    "!npm i express morgan nunjucks sequelize sequelize-cli mysql2"
   ]
  },
  {
   "cell_type": "code",
   "execution_count": 6,
   "metadata": {
    "vscode": {
     "languageId": "javascript"
    }
   },
   "outputs": [
    {
     "name": "stdout",
     "output_type": "stream",
     "text": [
      "\n",
      "added 27 packages, and audited 230 packages in 1s\n",
      "\n",
      "34 packages are looking for funding\n",
      "  run `npm fund` for details\n",
      "\n",
      "found 0 vulnerabilities\n"
     ]
    }
   ],
   "source": [
    "!npm i -D nodemon"
   ]
  },
  {
   "cell_type": "code",
   "execution_count": 9,
   "metadata": {},
   "outputs": [
    {
     "name": "stdout",
     "output_type": "stream",
     "text": [
      " C ����̺��� �������� �̸��� �����ϴ�.\n",
      " ���� �Ϸ� ��ȣ: 00F2-871C\n",
      "\n",
      " c:\\project_YJ\\dev\\projects\\front\\day19\\sequelize ���͸�\n",
      "\n",
      "2024-07-30  14:17    <DIR>          .\n",
      "2024-07-30  14:17    <DIR>          ..\n",
      "2024-07-30  14:18    <DIR>          node_modules\n",
      "2024-07-30  14:18               240 package.json\n",
      "2024-07-30  14:18            90,616 package-lock.json\n",
      "               2�� ����              90,856 ����Ʈ\n",
      "               3�� ���͸�  106,416,406,528 ����Ʈ ����\n"
     ]
    }
   ],
   "source": [
    "%ls"
   ]
  },
  {
   "cell_type": "code",
   "execution_count": 10,
   "metadata": {
    "vscode": {
     "languageId": "javascript"
    }
   },
   "outputs": [
    {
     "name": "stdout",
     "output_type": "stream",
     "text": [
      "\n",
      "\u001b[4mSequelize CLI [Node: 20.15.0, CLI: 6.6.2, ORM: 6.37.3]\u001b[24m\n",
      "\n",
      "Created \"config\\config.json\"\n",
      "Successfully created models folder at \"c:\\project_YJ\\dev\\projects\\front\\day19\\sequelize\\models\".\n",
      "Successfully created migrations folder at \"c:\\project_YJ\\dev\\projects\\front\\day19\\sequelize\\migrations\".\n",
      "Successfully created seeders folder at \"c:\\project_YJ\\dev\\projects\\front\\day19\\sequelize\\seeders\".\n"
     ]
    }
   ],
   "source": [
    "!npx sequelize init"
   ]
  },
  {
   "cell_type": "code",
   "execution_count": 11,
   "metadata": {},
   "outputs": [],
   "source": [
    "# %load \"config/config.json\"\n",
    "{\n",
    "  \"development\": {\n",
    "    \"username\": \"root\",\n",
    "    \"password\": null,\n",
    "    \"database\": \"database_development\",\n",
    "    \"host\": \"127.0.0.1\",\n",
    "    \"dialect\": \"mysql\"\n",
    "  },\n",
    "  \"test\": {\n",
    "    \"username\": \"root\",\n",
    "    \"password\": null,\n",
    "    \"database\": \"database_test\",\n",
    "    \"host\": \"127.0.0.1\",\n",
    "    \"dialect\": \"mysql\"\n",
    "  },\n",
    "  \"production\": {\n",
    "    \"username\": \"root\",\n",
    "    \"password\": null,\n",
    "    \"database\": \"database_production\",\n",
    "    \"host\": \"127.0.0.1\",\n",
    "    \"dialect\": \"mysql\"\n",
    "  }\n",
    "}\n"
   ]
  },
  {
   "cell_type": "code",
   "execution_count": 12,
   "metadata": {},
   "outputs": [
    {
     "name": "stdout",
     "output_type": "stream",
     "text": [
      "Overwriting config/config.json\n"
     ]
    }
   ],
   "source": [
    "%%writefile \"config/config.json\"\n",
    "{\n",
    "  \"development\": {\n",
    "    \"username\": \"root\",\n",
    "    \"password\": null, # 여기랑...근데 비밀번호니까 일단은...\n",
    "    \"database\": \"nodejs\", # 여기 변경\n",
    "    \"host\": \"127.0.0.1\",\n",
    "    \"dialect\": \"mysql\"\n",
    "  },\n",
    "  \"test\": {\n",
    "    \"username\": \"root\",\n",
    "    \"password\": null,\n",
    "    \"database\": \"database_test\",\n",
    "    \"host\": \"127.0.0.1\",\n",
    "    \"dialect\": \"mysql\"\n",
    "  },\n",
    "  \"production\": {\n",
    "    \"username\": \"root\",\n",
    "    \"password\": null,\n",
    "    \"database\": \"database_production\",\n",
    "    \"host\": \"127.0.0.1\",\n",
    "    \"dialect\": \"mysql\"\n",
    "  }\n",
    "}\n"
   ]
  },
  {
   "cell_type": "code",
   "execution_count": 13,
   "metadata": {
    "vscode": {
     "languageId": "javascript"
    }
   },
   "outputs": [
    {
     "name": "stdout",
     "output_type": "stream",
     "text": [
      "Writing app.js\n"
     ]
    }
   ],
   "source": [
    "%%writefile app.js\n",
    "const express = require('express');\n",
    "const path = require('path');\n",
    "const morgan = require('morgan');\n",
    "const nunjucks = require('nunjucks');\n",
    "\n",
    "const { sequelize } = require('./models');\n",
    "\n",
    "const app = express();\n",
    "app.set('port', process.env.PORT || 3001);\n",
    "app.set('view engine', 'html');\n",
    "nunjucks.configure('views', {\n",
    "  express: app,\n",
    "  watch: true,\n",
    "});\n",
    "sequelize.sync({ force: false })\n",
    "  .then(() => {\n",
    "    console.log('데이터베이스 연결 성공');\n",
    "  })\n",
    "  .catch((err) => {\n",
    "    console.error(err);\n",
    "  });\n",
    "\n",
    "app.use(morgan('dev'));\n",
    "app.use(express.static(path.join(__dirname, 'public')));\n",
    "app.use(express.json());\n",
    "app.use(express.urlencoded({ extended: false }));\n",
    "\n",
    "app.use((req, res, next) => {\n",
    "  const error =  new Error(`${req.method} ${req.url} 라우터가 없습니다.`);\n",
    "  error.status = 404;\n",
    "  next(error);\n",
    "});\n",
    "\n",
    "app.use((err, req, res, next) => {\n",
    "  res.locals.message = err.message;\n",
    "  res.locals.error = process.env.NODE_ENV !== 'production' ? err : {};\n",
    "  res.status(err.status || 500);\n",
    "  res.render('error');\n",
    "});\n",
    "\n",
    "app.listen(app.get('port'), () => {\n",
    "  console.log(app.get('port'), '번 포트에서 대기 중');\n",
    "});"
   ]
  },
  {
   "cell_type": "code",
   "execution_count": 14,
   "metadata": {},
   "outputs": [],
   "source": [
    "# %load \"package.json\"\n",
    "{\n",
    "  \"dependencies\": {\n",
    "    \"express\": \"^4.19.2\",\n",
    "    \"morgan\": \"^1.10.0\",\n",
    "    \"mysql2\": \"^3.11.0\",\n",
    "    \"nunjucks\": \"^3.2.4\",\n",
    "    \"sequelize\": \"^6.37.3\",\n",
    "    \"sequelize-cli\": \"^6.6.2\"\n",
    "  },\n",
    "  \"devDependencies\": {\n",
    "    \"nodemon\": \"^3.1.4\"\n",
    "  }\n",
    "}\n"
   ]
  },
  {
   "cell_type": "code",
   "execution_count": 15,
   "metadata": {},
   "outputs": [
    {
     "name": "stdout",
     "output_type": "stream",
     "text": [
      "Overwriting package.json\n"
     ]
    }
   ],
   "source": [
    "%%writefile \"package.json\"\n",
    "{\n",
    "  \"dependencies\": {\n",
    "    \"express\": \"^4.19.2\",\n",
    "    \"morgan\": \"^1.10.0\",\n",
    "    \"mysql2\": \"^3.11.0\",\n",
    "    \"nunjucks\": \"^3.2.4\",\n",
    "    \"sequelize\": \"^6.37.3\",\n",
    "    \"sequelize-cli\": \"^6.6.2\"\n",
    "  },\n",
    "  \"devDependencies\": {\n",
    "    \"nodemon\": \"^3.1.4\"\n",
    "  },\n",
    "  \"main\": \"app.js\",\n",
    "  \"scripts\": {\n",
    "    \"test\": \"echo \\\"Error: no test specified\\\" && exit 1\",\n",
    "    \"start\": \"nodemon app\"\n",
    "  }\n",
    "}\n"
   ]
  },
  {
   "cell_type": "code",
   "execution_count": 16,
   "metadata": {
    "vscode": {
     "languageId": "javascript"
    }
   },
   "outputs": [
    {
     "name": "stdout",
     "output_type": "stream",
     "text": [
      "Writing models/user.js\n"
     ]
    }
   ],
   "source": [
    "// %%writefile models/user.js\n",
    "const Sequelize = require('sequelize')\n",
    "\n",
    "class User extends Sequelize.Model {\n",
    "  static initiate(sequelize) {\n",
    "    User.init({\n",
    "      name: {\n",
    "        type: Sequelize.STRING(20),\n",
    "        allowNull: false,\n",
    "        unique: true\n",
    "      },\n",
    "      age: {\n",
    "        type: Sequelize.INTEGER.UNSIGNED,\n",
    "        allowNull: false,\n",
    "      },\n",
    "      married: {\n",
    "        type: Sequelize.BOOLEAN,\n",
    "        allowNull: false,\n",
    "      },\n",
    "      comment: {\n",
    "        type: Sequelize.TEXT,\n",
    "        allowNull: true,\n",
    "      },\n",
    "      created_at: {\n",
    "        type: Sequelize.DATE,\n",
    "        allowNull: false,\n",
    "        defaultValue: Sequelize.NOW,\n",
    "      },\n",
    "    }, {\n",
    "      sequelize,\n",
    "      timestamps: false,\n",
    "      underscored: false,\n",
    "      modelName: 'User',\n",
    "      tableName: 'users',\n",
    "      paranoid: false, // true 면 deletedAt 컬럼 생생, 로우 복구를 위해 완전히 삭제않고 deletedAt에 표현\n",
    "      charset: 'utf8',\n",
    "      collate: 'utf8_general_ci',\n",
    "    });\n",
    "  }\n",
    "  static associate(db) {}\n",
    "};\n",
    "\n",
    "module.exports = User;\n"
   ]
  },
  {
   "cell_type": "markdown",
   "metadata": {},
   "source": [
    "1. **initiate 메서드**\n",
    "   - **명령어**: `static initiate(sequelize)`\n",
    "   - **의미**: `db.sequelize` 객체를 전달하여 모델을 연결합니다.\n",
    "\n",
    "2. **timestamps**\n",
    "   - **명령어**: `timestamps: false`\n",
    "   - **의미**: 자동으로 `createdAt`과 `updatedAt` 컬럼을 추가하지 않습니다.\n",
    "\n",
    "3. **underscored**\n",
    "   - **명령어**: `underscored: true`\n",
    "   - **의미**: 컬럼명을 캐멀 케이스 대신 스네이크 케이스로 사용합니다 (예: `created_at`).\n",
    "\n",
    "4. **modelName**\n",
    "   - **명령어**: `modelName: 'User'`\n",
    "   - **의미**: 모델의 이름을 설정하여 노드 프로젝트에서 사용합니다.\n",
    "\n",
    "5. **tableName**\n",
    "   - **명령어**: `tableName: 'users'`\n",
    "   - **의미**: 데이터베이스 테이블 이름을 설정합니다. 기본적으로 모델 이름의 소문자 및 복수형 형태입니다.\n",
    "\n",
    "6. **paranoid**\n",
    "   - **명령어**: `paranoid: true`\n",
    "   - **의미**: `deletedAt` 컬럼을 추가하여 로우 삭제 시 완전히 지우지 않고 복원할 수 있게 합니다.\n",
    "\n",
    "7. **charset과 collate**\n",
    "   - **명령어**: `charset: 'utf8', collate: 'utf8_general_ci'`\n",
    "   - **의미**: 한글 입력을 지원합니다. \n",
    "   - **명령어**: `charset: 'utf8mb4', collate: 'utf8mb4_general_ci'`\n",
    "   - **의미**: 이모티콘 입력을 지원합니다."
   ]
  },
  {
   "cell_type": "code",
   "execution_count": 19,
   "metadata": {
    "vscode": {
     "languageId": "javascript"
    }
   },
   "outputs": [
    {
     "name": "stdout",
     "output_type": "stream",
     "text": [
      "Writing models/comment.js\n"
     ]
    }
   ],
   "source": [
    "%%writefile models/comment.js\n",
    "const Sequelize = require('sequelize');\n",
    "\n",
    "class Comment extends Sequelize.Model {\n",
    "  static initiate(sequelize) {\n",
    "    Comment.init({\n",
    "      comment: {\n",
    "        type: Sequelize.STRING(100),\n",
    "        allowNull: false,\n",
    "      },\n",
    "      created_at: {\n",
    "        type: Sequelize.DATE,\n",
    "        allowNull: true,\n",
    "        defaultValue: Sequelize.NOW,\n",
    "      },\n",
    "    }, {\n",
    "      sequelize,\n",
    "      timestamps: false,\n",
    "      modelName: 'Comment',\n",
    "      tableName: 'comments',\n",
    "      paranoid: false,\n",
    "      charset: 'utf8mb4',\n",
    "      collate: 'utf8mb4_general_ci',\n",
    "    });\n",
    "  }\n",
    "\n",
    "  static associate(db) {\n",
    "    db.Comment.belongsTo(db.User, { foreignKey: 'commenter', targetKey: 'id' });\n",
    "  }\n",
    "};\n",
    "\n",
    "module.exports = Comment;"
   ]
  },
  {
   "cell_type": "code",
   "execution_count": 20,
   "metadata": {
    "vscode": {
     "languageId": "javascript"
    }
   },
   "outputs": [],
   "source": [
    "// %load models/index.js\n",
    "'use strict';\n",
    "\n",
    "const fs = require('fs');\n",
    "const path = require('path');\n",
    "const Sequelize = require('sequelize');\n",
    "const process = require('process');\n",
    "const basename = path.basename(__filename);\n",
    "const env = process.env.NODE_ENV || 'development';\n",
    "const config = require(__dirname + '/../config/config.json')[env];\n",
    "const db = {};\n",
    "\n",
    "let sequelize;\n",
    "if (config.use_env_variable) {\n",
    "  sequelize = new Sequelize(process.env[config.use_env_variable], config);\n",
    "} else {\n",
    "  sequelize = new Sequelize(config.database, config.username, config.password, config);\n",
    "}\n",
    "\n",
    "fs\n",
    "  .readdirSync(__dirname)\n",
    "  .filter(file => {\n",
    "    return (\n",
    "      file.indexOf('.') !== 0 &&\n",
    "      file !== basename &&\n",
    "      file.slice(-3) === '.js' &&\n",
    "      file.indexOf('.test.js') === -1\n",
    "    );\n",
    "  })\n",
    "  .forEach(file => {\n",
    "    const model = require(path.join(__dirname, file))(sequelize, Sequelize.DataTypes);\n",
    "    db[model.name] = model;\n",
    "  });\n",
    "\n",
    "Object.keys(db).forEach(modelName => {\n",
    "  if (db[modelName].associate) {\n",
    "    db[modelName].associate(db);\n",
    "  }\n",
    "});\n",
    "\n",
    "db.sequelize = sequelize;\n",
    "db.Sequelize = Sequelize;\n",
    "\n",
    "module.exports = db;\n"
   ]
  },
  {
   "cell_type": "code",
   "execution_count": 22,
   "metadata": {
    "vscode": {
     "languageId": "javascript"
    }
   },
   "outputs": [
    {
     "name": "stdout",
     "output_type": "stream",
     "text": [
      "Overwriting models/index.js\n"
     ]
    }
   ],
   "source": [
    "%%writefile models/index.js\n",
    "'use strict';\n",
    "\n",
    "const fs = require('fs');\n",
    "const path = require('path');\n",
    "// const Sequelize = require('sequelize');\n",
    "\n",
    "/////insert code\n",
    "const Sequelize = require('sequelize');\n",
    "const User = require('./user');\n",
    "const Comment = require('./comment');\n",
    "////\n",
    "\n",
    "const process = require('process');\n",
    "const basename = path.basename(__filename);\n",
    "const env = process.env.NODE_ENV || 'development';\n",
    "const config = require(__dirname + '/../config/config.json')[env];\n",
    "const db = {};\n",
    "\n",
    "let sequelize;\n",
    "if (config.use_env_variable) {\n",
    "  sequelize = new Sequelize(process.env[config.use_env_variable], config);\n",
    "} else {\n",
    "  sequelize = new Sequelize(config.database, config.username, config.password, config);\n",
    "}\n",
    "\n",
    "fs\n",
    "  .readdirSync(__dirname)\n",
    "  .filter(file => {\n",
    "    return (\n",
    "      file.indexOf('.') !== 0 &&\n",
    "      file !== basename &&\n",
    "      file.slice(-3) === '.js' &&\n",
    "      file.indexOf('.test.js') === -1\n",
    "    );\n",
    "  })\n",
    "  .forEach(file => {\n",
    "    // const model = require(path.join(__dirname, file))(sequelize, Sequelize.DataTypes);\n",
    "    // db[model.name] = model;\n",
    "    \n",
    "    ///에러 발생해서 변경\n",
    "    const model = require(path.join(__dirname, file))\n",
    "    if (model && typeof model.initiate === \"function\") {\n",
    "      model.initiate(sequelize)\n",
    "      db[model.name] = model;  \n",
    "    }\n",
    "    \n",
    "    ///\n",
    "  });\n",
    "\n",
    "Object.keys(db).forEach(modelName => {\n",
    "  if (db[modelName].associate) {\n",
    "    db[modelName].associate(db);\n",
    "  }\n",
    "});\n",
    "\n",
    "db.sequelize = sequelize;\n",
    "db.Sequelize = Sequelize;\n",
    "\n",
    "/////insert code\n",
    "db.User = User;\n",
    "db.Comment = Comment;\n",
    "\n",
    "User.initiate(sequelize);\n",
    "Comment.initiate(sequelize);\n",
    "\n",
    "User.associate(db);\n",
    "Comment.associate(db);\n",
    "/////\n",
    "\n",
    "module.exports = db;"
   ]
  },
  {
   "cell_type": "markdown",
   "metadata": {
    "vscode": {
     "languageId": "bat"
    }
   },
   "source": [
    "-  테이블 네임 변경 후(없는 테이블의 경우)"
   ]
  },
  {
   "cell_type": "code",
   "execution_count": null,
   "metadata": {
    "vscode": {
     "languageId": "bat"
    }
   },
   "outputs": [],
   "source": [
    "Executing (default): SELECT TABLE_NAME FROM INFORMATION_SCHEMA.TABLES WHERE TABLE_TYPE = 'BASE TABLE' AND TABLE_NAME = 'member' AND TABLE_SCHEMA = 'nodejs'\n",
    "\n",
    "Executing (default): SHOW INDEX FROM `member` FROM `nodejs`\n",
    "\n",
    "Executing (default): SELECT TABLE_NAME FROM INFORMATION_SCHEMA.TABLES WHERE TABLE_TYPE = 'BASE TABLE' AND TABLE_NAME = 'comments2' AND TABLE_SCHEMA = 'nodejs'        \n",
    "\n",
    "Executing (default): CREATE TABLE IF NOT EXISTS `comments2` (`id` INTEGER NOT NULL \n",
    "auto_increment , `comment` VARCHAR(100) NOT NULL, `created_at` DATETIME, `commenter` INTEGER, PRIMARY KEY (`id`), FOREIGN KEY (`commenter`) REFERENCES `member` (`id`) ON DELETE SET NULL ON UPDATE CASCADE) ENGINE=InnoDB DEFAULT CHARSET=utf8mb4 COLLATE utf8mb4_general_ci;\n",
    "\n",
    "Executing (default): SHOW INDEX FROM `comments2` FROM `nodejs`"
   ]
  },
  {
   "cell_type": "markdown",
   "metadata": {
    "vscode": {
     "languageId": "bat"
    }
   },
   "source": [
    "-  테이블 네임 변경 전(있는 테이블의 경우)"
   ]
  },
  {
   "cell_type": "code",
   "execution_count": null,
   "metadata": {
    "vscode": {
     "languageId": "bat"
    }
   },
   "outputs": [],
   "source": [
    "Executing (default): SELECT TABLE_NAME FROM INFORMATION_SCHEMA.TABLES WHERE TABLE_TYPE = 'BASE TABLE' AND TABLE_NAME = 'users' AND TABLE_SCHEMA = 'nodejs'\n",
    "\n",
    "Executing (default): SHOW INDEX FROM `users` FROM `nodejs`\n",
    "\n",
    "Executing (default): SELECT TABLE_NAME FROM INFORMATION_SCHEMA.TABLES WHERE TABLE_TYPE = 'BASE TABLE' AND TABLE_NAME = 'comments' AND TABLE_SCHEMA = 'nodejs'\n",
    "\n",
    "Executing (default): SHOW INDEX FROM `comments` FROM `nodejs`"
   ]
  },
  {
   "cell_type": "code",
   "execution_count": null,
   "metadata": {
    "vscode": {
     "languageId": "bat"
    }
   },
   "outputs": [],
   "source": []
  },
  {
   "cell_type": "code",
   "execution_count": null,
   "metadata": {
    "vscode": {
     "languageId": "bat"
    }
   },
   "outputs": [],
   "source": []
  }
 ],
 "metadata": {
  "kernelspec": {
   "display_name": "base",
   "language": "python",
   "name": "python3"
  },
  "language_info": {
   "codemirror_mode": {
    "name": "ipython",
    "version": 3
   },
   "file_extension": ".py",
   "mimetype": "text/x-python",
   "name": "python",
   "nbconvert_exporter": "python",
   "pygments_lexer": "ipython3",
   "version": "3.12.4"
  }
 },
 "nbformat": 4,
 "nbformat_minor": 2
}
